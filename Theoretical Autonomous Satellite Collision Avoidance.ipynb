{
  "cells": [
    {
      "cell_type": "markdown",
      "id": "a29172d5",
      "metadata": {
        "id": "a29172d5"
      },
      "source": [
        "# Theoretical Autonomous Satellite Collision Avoidance (TASCA)\n",
        "**Scope:** lightweight, Python-based prototype for autonomous collision avoidance in low-Earth orbit using a supervised imitation approach (oracle → neural network) with 3D visualization.\n",
        "\n",
        "**What this notebook contains**\n",
        "1. Clohessy-Wiltshire relative-motion simulator (LVLH frame) with RK4 propagation.\n",
        "2. A simple rule-based oracle that computes a single impulsive ∆v to raise the closest-approach distance.\n",
        "3. Synthetic dataset generation.\n",
        "4. A small feedforward neural network (numpy) trained to imitate the oracle.\n",
        "5. 3D visualization of nominal vs NN-avoided vs oracle-avoided trajectories using `matplotlib`.\n",
        "6. Save/load checkpoint utilities.\n"
      ]
    },
    {
      "cell_type": "markdown",
      "id": "8d6aa9f0",
      "metadata": {
        "id": "8d6aa9f0"
      },
      "source": [
        "## Requirements\n",
        "\n",
        "This notebook uses only widely available Python packages: `numpy` and `matplotlib`. Install them if needed:\n",
        "\n",
        "```bash\n",
        "pip install numpy matplotlib nbformat\n",
        "```\n"
      ]
    },
    {
      "cell_type": "code",
      "execution_count": 1,
      "id": "e48e8657",
      "metadata": {
        "colab": {
          "base_uri": "https://localhost:8080/"
        },
        "id": "e48e8657",
        "outputId": "5c2291dc-396c-4812-cb19-3f4f52778b38"
      },
      "outputs": [
        {
          "output_type": "stream",
          "name": "stdout",
          "text": [
            "numpy version 2.0.2\n"
          ]
        }
      ],
      "source": [
        "import numpy as np\n",
        "import matplotlib.pyplot as plt\n",
        "from mpl_toolkits.mplot3d import Axes3D\n",
        "import math, os, json\n",
        "np.random.seed(42)\n",
        "\n",
        "print('numpy version', np.__version__)\n"
      ]
    },
    {
      "cell_type": "markdown",
      "id": "c0c8354b",
      "metadata": {
        "id": "c0c8354b"
      },
      "source": [
        "## Clohessy-Wiltshire dynamics and trajectory propagation\n",
        "\n",
        "We implement CW linearized relative-motion dynamics in the Local-Vertical Local-Horizontal (LVLH) frame and integrate them using RK4.\n",
        "The state vector is `[rx, ry, rz, vx, vy, vz]` where distances are in kilometers and velocities in km/s.\n"
      ]
    },
    {
      "cell_type": "code",
      "execution_count": 2,
      "id": "e14ecc0b",
      "metadata": {
        "id": "e14ecc0b"
      },
      "outputs": [],
      "source": [
        "def cw_dot(s, n):\n",
        "    rx, ry, rz, vx, vy, vz = s\n",
        "    ax = 3 * n**2 * rx + 2 * n * vy\n",
        "    ay = -2 * n * vx\n",
        "    az = -n**2 * rz\n",
        "    return np.array([vx, vy, vz, ax, ay, az])\n",
        "\n",
        "def cw_propagate(state, dt, n):\n",
        "    # RK4 integrator for a single CW step\n",
        "    s = state.copy()\n",
        "    k1 = cw_dot(s, n)\n",
        "    k2 = cw_dot(s + 0.5 * dt * k1, n)\n",
        "    k3 = cw_dot(s + 0.5 * dt * k2, n)\n",
        "    k4 = cw_dot(s + dt * k3, n)\n",
        "    return s + (dt / 6.0) * (k1 + 2*k2 + 2*k3 + k4)\n",
        "\n",
        "def propagate_trajectory(initial_state, dt, steps, n, impulsive_dv_time=None, dv=np.zeros(3)):\n",
        "    traj = np.zeros((steps+1, 6))\n",
        "    traj[0] = initial_state.copy()\n",
        "    for i in range(steps):\n",
        "        if impulsive_dv_time is not None and i == impulsive_dv_time:\n",
        "            traj[i, 3:6] += dv\n",
        "        traj[i+1] = cw_propagate(traj[i], dt, n)\n",
        "    return traj\n"
      ]
    },
    {
      "cell_type": "markdown",
      "id": "eec6067a",
      "metadata": {
        "id": "eec6067a"
      },
      "source": [
        "### Utility functions\n"
      ]
    },
    {
      "cell_type": "code",
      "execution_count": 3,
      "id": "d091a0f6",
      "metadata": {
        "id": "d091a0f6"
      },
      "outputs": [],
      "source": [
        "def compute_min_distance_and_time(traj_chaser, traj_debris):\n",
        "    dists = np.linalg.norm(traj_chaser[:,0:3] - traj_debris[:,0:3], axis=1)\n",
        "    idx = np.argmin(dists)\n",
        "    return dists[idx], idx\n",
        "\n",
        "def generate_scenario(n=0.0011, dt=10.0, max_rel=2.0):\n",
        "    rx = np.random.uniform(-max_rel, max_rel)\n",
        "    ry = np.random.uniform(-max_rel, max_rel)\n",
        "    rz = np.random.uniform(-max_rel/2, max_rel/2)\n",
        "    vx = np.random.uniform(-0.01, 0.01)\n",
        "    vy = np.random.uniform(-0.01, 0.01)\n",
        "    vz = np.random.uniform(-0.005, 0.005)\n",
        "    chaser = np.array([rx, ry, rz, vx, vy, vz])\n",
        "    dr = chaser + np.array([np.random.uniform(-0.5, 0.5), np.random.uniform(-0.5, 0.5), np.random.uniform(-0.2, 0.2),\n",
        "                            np.random.uniform(-0.005, 0.005), np.random.uniform(-0.005, 0.005), np.random.uniform(-0.002, 0.002)])\n",
        "    return chaser, dr\n"
      ]
    },
    {
      "cell_type": "markdown",
      "id": "1b4b82f1",
      "metadata": {
        "id": "1b4b82f1"
      },
      "source": [
        "## Oracle impulsive avoidance policy\n",
        "\n",
        "The oracle simulates both chaser and debris forward for a short lookahead and, if the closest-approach distance falls below a threshold, computes a single impulsive ∆v. The ∆v direction is chosen to be approximately perpendicular to the relative velocity to increase miss distance.\n"
      ]
    },
    {
      "cell_type": "code",
      "execution_count": 4,
      "id": "2efd97d2",
      "metadata": {
        "id": "2efd97d2"
      },
      "outputs": [],
      "source": [
        "def oracle_impulsive_action(chaser_state, debris_state, n, dt=1.0, lookahead_steps=200, threshold=0.75):\n",
        "    traj_c = propagate_trajectory(chaser_state, dt, lookahead_steps, n)\n",
        "    traj_d = propagate_trajectory(debris_state, dt, lookahead_steps, n)\n",
        "    min_dist, idx = compute_min_distance_and_time(traj_c, traj_d)\n",
        "    if min_dist >= threshold:\n",
        "        return np.zeros(3), min_dist, idx\n",
        "    rel_vel = traj_c[idx, 3:6] - traj_d[idx, 3:6]\n",
        "    rel_pos = traj_c[idx, 0:3] - traj_d[idx, 0:3]\n",
        "    perp = np.cross(rel_vel, rel_pos)\n",
        "    if np.linalg.norm(perp) < 1e-6:\n",
        "        perp = np.array([-rel_vel[1], rel_vel[0], 0.0])\n",
        "    dv_dir = np.cross(rel_vel, perp)\n",
        "    if np.linalg.norm(dv_dir) == 0:\n",
        "        dv_dir = perp\n",
        "    dv_dir = dv_dir / np.linalg.norm(dv_dir)\n",
        "    needed = threshold - min_dist\n",
        "    rel_speed = max(np.linalg.norm(rel_vel), 1e-3)\n",
        "    k = 0.6\n",
        "    dv_mag = k * needed * rel_speed\n",
        "    dv = dv_mag * dv_dir\n",
        "    return dv, min_dist, idx\n"
      ]
    },
    {
      "cell_type": "markdown",
      "id": "65728596",
      "metadata": {
        "id": "65728596"
      },
      "source": [
        "## Synthetic dataset generation\n",
        "\n",
        "We collect features `[chaser_pos, chaser_vel, debris_pos, debris_vel]` (12 numbers) and labels `∆v` (3 numbers) from the oracle.\n"
      ]
    },
    {
      "cell_type": "code",
      "execution_count": 5,
      "id": "06409543",
      "metadata": {
        "colab": {
          "base_uri": "https://localhost:8080/"
        },
        "id": "06409543",
        "outputId": "e33c6f3b-07b6-4d91-f842-cb4ab72e3055"
      },
      "outputs": [
        {
          "output_type": "stream",
          "name": "stdout",
          "text": [
            "X shape: (400, 12) Y shape: (400, 3)\n",
            "mean min-dist in dataset: 0.347 ± 0.147\n"
          ]
        }
      ],
      "source": [
        "def build_dataset(N=400, n=0.0011, dt=10.0):\n",
        "    X = []\n",
        "    Y = []\n",
        "    stats = []\n",
        "    for i in range(N):\n",
        "        ch, de = generate_scenario(n=n, dt=dt)\n",
        "        dv, min_dist, t_idx = oracle_impulsive_action(ch, de, n, dt=1.0, lookahead_steps=200, threshold=0.75)\n",
        "        feat = np.concatenate([ch[0:3], ch[3:6], de[0:3], de[3:6]])\n",
        "        X.append(feat); Y.append(dv); stats.append(min_dist)\n",
        "    return np.array(X), np.array(Y), np.array(stats)\n",
        "\n",
        "# Tune N higher for better performance\n",
        "N = 400\n",
        "X, Y, stats = build_dataset(N=N)\n",
        "print('X shape:', X.shape, 'Y shape:', Y.shape)\n",
        "print('mean min-dist in dataset: {:.3f} ± {:.3f}'.format(stats.mean(), stats.std()))\n"
      ]
    },
    {
      "cell_type": "markdown",
      "id": "282b71f5",
      "metadata": {
        "id": "282b71f5"
      },
      "source": [
        "## Feedforward neural network\n",
        "\n",
        "A single-hidden-layer network with tanh activation.\n"
      ]
    },
    {
      "cell_type": "code",
      "execution_count": 6,
      "id": "8e26e9c5",
      "metadata": {
        "id": "8e26e9c5"
      },
      "outputs": [],
      "source": [
        "class SimpleNN:\n",
        "    def __init__(self, input_dim, hidden_dim, output_dim, lr=1e-3):\n",
        "        self.w1 = np.random.randn(input_dim, hidden_dim) * np.sqrt(2/input_dim)\n",
        "        self.b1 = np.zeros(hidden_dim)\n",
        "        self.w2 = np.random.randn(hidden_dim, output_dim) * np.sqrt(2/hidden_dim)\n",
        "        self.b2 = np.zeros(output_dim)\n",
        "        self.lr = lr\n",
        "    def forward(self, x):\n",
        "        z1 = x.dot(self.w1) + self.b1\n",
        "        a1 = np.tanh(z1)\n",
        "        out = a1.dot(self.w2) + self.b2\n",
        "        cache = (x, z1, a1)\n",
        "        return out, cache\n",
        "    def predict(self, x):\n",
        "        out, _ = self.forward(x)\n",
        "        return out\n",
        "    def train_step(self, x, y):\n",
        "        out, cache = self.forward(x)\n",
        "        x_in, z1, a1 = cache\n",
        "        err = out - y\n",
        "        loss = np.mean(np.sum(err**2, axis=1))\n",
        "        grad_out = (2.0 / x.shape[0]) * err\n",
        "        grad_w2 = a1.T.dot(grad_out); grad_b2 = grad_out.sum(axis=0)\n",
        "        grad_a1 = grad_out.dot(self.w2.T)\n",
        "        grad_z1 = grad_a1 * (1 - np.tanh(z1)**2)\n",
        "        grad_w1 = x_in.T.dot(grad_z1); grad_b1 = grad_z1.sum(axis=0)\n",
        "        self.w1 -= self.lr * grad_w1; self.b1 -= self.lr * grad_b1\n",
        "        self.w2 -= self.lr * grad_w2; self.b2 -= self.lr * grad_b2\n",
        "        return loss\n"
      ]
    },
    {
      "cell_type": "markdown",
      "id": "fc34321f",
      "metadata": {
        "id": "fc34321f"
      },
      "source": [
        "## Training the network\n",
        "\n",
        "We normalize inputs and outputs, train, and observe loss.\n"
      ]
    },
    {
      "cell_type": "code",
      "execution_count": null,
      "id": "531b283c",
      "metadata": {
        "id": "531b283c"
      },
      "outputs": [],
      "source": [
        "X_mean = X.mean(axis=0); X_std = X.std(axis=0) + 1e-8\n",
        "Y_mean = Y.mean(axis=0); Y_std = Y.std(axis=0) + 1e-8\n",
        "Xn = (X - X_mean) / X_std\n",
        "Yn = (Y - Y_mean) / Y_std\n",
        "\n",
        "model = SimpleNN(input_dim=Xn.shape[1], hidden_dim=64, output_dim=3, lr=8e-4)\n",
        "\n",
        "# Tune these higher for stronger models\n",
        "epochs = 60\n",
        "batch = 64\n",
        "\n",
        "for e in range(epochs):\n",
        "    perm = np.random.permutation(Xn.shape[0])\n",
        "    Xn = Xn[perm]; Yn = Yn[perm]\n",
        "    losses = []\n",
        "    for i in range(0, Xn.shape[0], batch):\n",
        "        xb = Xn[i:i+batch]; yb = Yn[i:i+batch]\n",
        "        loss = model.train_step(xb, yb); losses.append(loss)\n",
        "    if (e+1) % 10 == 0 or e==0 or e==epochs-1:\n",
        "        print(f'Epoch {e+1}/{epochs} loss={np.mean(losses):.6f}')\n"
      ]
    },
    {
      "cell_type": "markdown",
      "id": "4472c4b9",
      "metadata": {
        "id": "4472c4b9"
      },
      "source": [
        "## 3D visualization: nominal vs NN vs oracle\n",
        "\n",
        "The plots show debris trajectory and three chaser trajectories:\n",
        "- nominal (no avoidance)\n",
        "- NN avoidance (impulse at t=0 predicted by the network)\n",
        "- oracle avoidance (the rule-based oracle's impulse)\n"
      ]
    },
    {
      "cell_type": "code",
      "execution_count": null,
      "id": "465d9741",
      "metadata": {
        "id": "465d9741"
      },
      "outputs": [],
      "source": [
        "def run_visualization_case(chaser, debris, model, X_mean, X_std, Y_mean, Y_std, n=0.0011, dt=10.0):\n",
        "    steps = 200\n",
        "    traj_c_nom = propagate_trajectory(chaser, dt, steps, n)\n",
        "    traj_d = propagate_trajectory(debris, dt, steps, n)\n",
        "    min_nom, t_nom = compute_min_distance_and_time(traj_c_nom, traj_d)\n",
        "\n",
        "    feat = np.concatenate([chaser[0:3], chaser[3:6], debris[0:3], debris[3:6]])\n",
        "    x_in = (feat - X_mean) / X_std\n",
        "    dv_pred_norm = model.predict(x_in.reshape(1,-1))[0]\n",
        "    dv_pred = dv_pred_norm * Y_std + Y_mean\n",
        "\n",
        "    traj_c_after = propagate_trajectory(chaser, dt, steps, n, impulsive_dv_time=0, dv=dv_pred)\n",
        "    min_after, t_after = compute_min_distance_and_time(traj_c_after, traj_d)\n",
        "    dv_oracle, min_oracle, t_oracle = oracle_impulsive_action(chaser, debris, n, dt=1.0, lookahead_steps=200, threshold=0.75)\n",
        "    traj_oracle = propagate_trajectory(chaser, dt, steps, n, impulsive_dv_time=0, dv=dv_oracle)\n",
        "\n",
        "    print(f'Nominal min-dist: {min_nom:.3f} at t={t_nom}, after NN: {min_after:.3f} at t={t_after}, oracle min-dist: {min_oracle:.3f}')\n",
        "\n",
        "    fig = plt.figure(figsize=(12,5))\n",
        "    ax = fig.add_subplot(121, projection='3d')\n",
        "    ax.plot(traj_d[:,0], traj_d[:,1], traj_d[:,2], label='Debris')\n",
        "    ax.plot(traj_c_nom[:,0], traj_c_nom[:,1], traj_c_nom[:,2], label='Chaser (nominal)')\n",
        "    ax.scatter(traj_c_nom[t_nom,0], traj_c_nom[t_nom,1], traj_c_nom[t_nom,2], c='r', label='Closest nom')\n",
        "    ax.set_title('Nominal (no avoidance)')\n",
        "    ax.legend(); ax.set_xlabel('x (km)'); ax.set_ylabel('y (km)'); ax.set_zlabel('z (km)')\n",
        "    ax.view_init(elev=20, azim=120)\n",
        "\n",
        "    ax2 = fig.add_subplot(122, projection='3d')\n",
        "    ax2.plot(traj_d[:,0], traj_d[:,1], traj_d[:,2], label='Debris')\n",
        "    ax2.plot(traj_c_after[:,0], traj_c_after[:,1], traj_c_after[:,2], label='Chaser (NN avoidance)')\n",
        "    ax2.plot(traj_oracle[:,0], traj_oracle[:,1], traj_oracle[:,2], label='Chaser (Oracle)')\n",
        "    ax2.scatter(traj_c_after[t_after,0], traj_c_after[t_after,1], traj_c_after[t_after,2], c='g', label='Closest after')\n",
        "    ax2.set_title('After avoidance (NN vs Oracle)')\n",
        "    ax2.legend(); ax2.set_xlabel('x (km)'); ax2.set_ylabel('y (km)'); ax2.set_zlabel('z (km)')\n",
        "    ax2.view_init(elev=20, azim=120)\n",
        "    plt.tight_layout(); plt.show()\n",
        "\n",
        "for i in range(3):\n",
        "    ch, de = generate_scenario()\n",
        "    print('\\nCase', i+1)\n",
        "    run_visualization_case(ch, de, model, X_mean, X_std, Y_mean, Y_std)\n"
      ]
    },
    {
      "cell_type": "markdown",
      "source": [
        "## 3D visualization: animation\n",
        "\n",
        "This cell creates and saves a short animation that shows, side-by-side, how a debris object and the chaser move over time:\n",
        "\n",
        "- left panel: debris (blue) + chaser nominal trajectory (orange)  \n",
        "- right panel: debris (blue) + chaser with the NN-predicted impulse (orange) and oracle impulse (green)\n",
        "\n",
        "**Output files**\n",
        "- `avoidance_animation.mp4` - main video output (H.264 via `ffmpeg` if available)  \n",
        "- `avoidance_animation.gif` - fallback GIF (may be large and lower quality)\n",
        "\n",
        "**Notes**\n",
        "- `ffmpeg` is recommended for good MP4 output. If it is not available, the code will try to save a GIF using Pillow.  \n",
        "- The cell assumes the notebook already defines functions / variables from earlier cells:\n",
        "  `generate_scenario`, `propagate_trajectory`, `oracle_impulsive_action`,\n",
        "  and the trained `model` plus normalization arrays `X_mean, X_std, Y_mean, Y_std`.\n",
        "- If `model` is not present, the code will fall back to using the oracle impulse for the \"NN\" trajectory so the animation still runs.\n",
        "- Adjust `steps`, `dt`, and `interval` inside the code cell for longer/shorter animations or different temporal resolution."
      ],
      "metadata": {
        "id": "IrT6AkDBWqGc"
      },
      "id": "IrT6AkDBWqGc"
    },
    {
      "cell_type": "code",
      "source": [
        "import numpy as np\n",
        "import matplotlib.pyplot as plt\n",
        "from mpl_toolkits.mplot3d import Axes3D\n",
        "from matplotlib import animation\n",
        "from IPython.display import HTML, display\n",
        "import os\n",
        "\n",
        "n = 0.0011         # mean motion used in earlier cells\n",
        "dt = 10.0          # seconds per simulation step for visualization\n",
        "steps = 200        # number of simulation steps (frame count)\n",
        "interval = 50      # ms between frames (for display)\n",
        "out_mp4 = 'avoidance_animation.mp4'\n",
        "out_gif = 'avoidance_animation.gif'\n",
        "\n",
        "chaser, debris = generate_scenario()\n",
        "\n",
        "traj_d = propagate_trajectory(debris, dt, steps, n)\n",
        "\n",
        "traj_nom = propagate_trajectory(chaser, dt, steps, n)\n",
        "\n",
        "try:\n",
        "    feat = np.concatenate([chaser[0:3], chaser[3:6], debris[0:3], debris[3:6]])\n",
        "    x_in = (feat - X_mean) / X_std\n",
        "    dv_pred_norm = model.predict(x_in.reshape(1,-1))[0]\n",
        "    dv_pred = dv_pred_norm * Y_std + Y_mean\n",
        "except Exception as e:\n",
        "    print(\"Model unavailable or prediction failed; falling back to oracle for NN trace. Error:\", e)\n",
        "    dv_pred, _, _ = oracle_impulsive_action(chaser, debris, n, dt=1.0, lookahead_steps=200, threshold=0.75)\n",
        "\n",
        "traj_nn = propagate_trajectory(chaser, dt, steps, n, impulsive_dv_time=0, dv=dv_pred)\n",
        "\n",
        "dv_oracle, _, _ = oracle_impulsive_action(chaser, debris, n, dt=1.0, lookahead_steps=200, threshold=0.75)\n",
        "traj_oracle = propagate_trajectory(chaser, dt, steps, n, impulsive_dv_time=0, dv=dv_oracle)\n",
        "\n",
        "fig = plt.figure(figsize=(12,6))\n",
        "ax_left  = fig.add_subplot(121, projection='3d')\n",
        "ax_right = fig.add_subplot(122, projection='3d')\n",
        "\n",
        "all_points = np.vstack([traj_d[:,0:3], traj_nom[:,0:3], traj_nn[:,0:3], traj_oracle[:,0:3]])\n",
        "xmin, ymin, zmin = all_points.min(axis=0) - 0.5\n",
        "xmax, ymax, zmax = all_points.max(axis=0) + 0.5\n",
        "\n",
        "for ax in (ax_left, ax_right):\n",
        "    ax.set_xlim(xmin, xmax); ax.set_ylim(ymin, ymax); ax.set_zlim(zmin, zmax)\n",
        "    ax.set_xlabel('x (km)'); ax.set_ylabel('y (km)'); ax.set_zlabel('z (km)')\n",
        "\n",
        "ax_left.set_title('Nominal (no avoidance)')\n",
        "ax_right.set_title('After avoidance (NN vs Oracle)')\n",
        "\n",
        "line_d_left, = ax_left.plot([], [], [], lw=2, label='Debris')\n",
        "line_c_nom_left, = ax_left.plot([], [], [], lw=2, label='Chaser (nominal)', color='orange')\n",
        "pt_closest_left, = ax_left.plot([], [], [], marker='x', color='red', linestyle='None', markersize=8)\n",
        "\n",
        "line_d_right, = ax_right.plot([], [], [], lw=2, label='Debris')\n",
        "line_c_nn_right, = ax_right.plot([], [], [], lw=2, label='Chaser (NN)', color='orange')\n",
        "line_c_oracle_right, = ax_right.plot([], [], [], lw=2, label='Chaser (Oracle)', color='green')\n",
        "pt_closest_right, = ax_right.plot([], [], [], marker='x', color='lime', linestyle='None', markersize=8)\n",
        "\n",
        "ax_left.legend()\n",
        "ax_right.legend()\n",
        "\n",
        "def min_dist_index(traj1, traj2):\n",
        "    dists = np.linalg.norm(traj1[:,0:3] - traj2[:,0:3], axis=1)\n",
        "    idx = np.argmin(dists)\n",
        "    return idx, dists[idx]\n",
        "\n",
        "idx_nom, _ = min_dist_index(traj_nom, traj_d)\n",
        "idx_after_nn, _ = min_dist_index(traj_nn, traj_d)\n",
        "idx_oracle, _ = min_dist_index(traj_oracle, traj_d)\n",
        "\n",
        "def update(frame):\n",
        "    line_d_left.set_data(traj_d[:frame+1,0], traj_d[:frame+1,1])\n",
        "    line_d_left.set_3d_properties(traj_d[:frame+1,2])\n",
        "    line_c_nom_left.set_data(traj_nom[:frame+1,0], traj_nom[:frame+1,1])\n",
        "    line_c_nom_left.set_3d_properties(traj_nom[:frame+1,2])\n",
        "    if frame >= idx_nom:\n",
        "        pt_closest_left.set_data([traj_nom[idx_nom,0]], [traj_nom[idx_nom,1]])\n",
        "        pt_closest_left.set_3d_properties([traj_nom[idx_nom,2]])\n",
        "    else:\n",
        "        pt_closest_left.set_data([], []); pt_closest_left.set_3d_properties([])\n",
        "\n",
        "    line_d_right.set_data(traj_d[:frame+1,0], traj_d[:frame+1,1])\n",
        "    line_d_right.set_3d_properties(traj_d[:frame+1,2])\n",
        "    line_c_nn_right.set_data(traj_nn[:frame+1,0], traj_nn[:frame+1,1])\n",
        "    line_c_nn_right.set_3d_properties(traj_nn[:frame+1,2])\n",
        "    line_c_oracle_right.set_data(traj_oracle[:frame+1,0], traj_oracle[:frame+1,1])\n",
        "    line_c_oracle_right.set_3d_properties(traj_oracle[:frame+1,2])\n",
        "\n",
        "    if frame >= idx_after_nn:\n",
        "        pt_closest_right.set_data([traj_nn[idx_after_nn,0]], [traj_nn[idx_after_nn,1]])\n",
        "        pt_closest_right.set_3d_properties([traj_nn[idx_after_nn,2]])\n",
        "    else:\n",
        "        pt_closest_right.set_data([], []); pt_closest_right.set_3d_properties([])\n",
        "\n",
        "    return (line_d_left, line_c_nom_left, pt_closest_left,\n",
        "            line_d_right, line_c_nn_right, line_c_oracle_right, pt_closest_right)\n",
        "\n",
        "anim = animation.FuncAnimation(fig, update, frames=steps, interval=interval, blit=False)\n",
        "\n",
        "saved = False\n",
        "try:\n",
        "    print(\"Saving MP4 (ffmpeg)...\")\n",
        "    Writer = animation.writers['ffmpeg']\n",
        "    writer = Writer(fps=1000/interval, metadata=dict(artist='Notebook'), bitrate=8000)\n",
        "    anim.save(out_mp4, writer=writer)\n",
        "    print(\"Saved\", out_mp4)\n",
        "    saved = True\n",
        "except Exception as e:\n",
        "    print(\"ffmpeg save failed or not available:\", e)\n",
        "\n",
        "if not saved:\n",
        "    try:\n",
        "        from matplotlib.animation import PillowWriter\n",
        "        print(\"Saving GIF (Pillow)...\")\n",
        "        writer = PillowWriter(fps=1000/interval)\n",
        "        anim.save(out_gif, writer=writer)\n",
        "        print(\"Saved\", out_gif)\n",
        "        saved = True\n",
        "    except Exception as e:\n",
        "        print(\"GIF save failed:\", e)\n",
        "\n",
        "plt.close(fig)\n",
        "\n",
        "if os.path.exists(out_mp4):\n",
        "    display(HTML(f\"<h4>Animation (MP4)</h4><video controls src='{out_mp4}' width=800></video>\"))\n",
        "elif os.path.exists(out_gif):\n",
        "    display(HTML(f\"<h4>Animation (GIF)</h4><img src='{out_gif}' width=800>\"))\n",
        "else:\n",
        "    print(\"No output file was saved. If running locally, install ffmpeg (recommended) or ensure Pillow is installed.\")\n"
      ],
      "metadata": {
        "id": "aGC5LvswWtzS"
      },
      "id": "aGC5LvswWtzS",
      "execution_count": null,
      "outputs": []
    },
    {
      "cell_type": "markdown",
      "id": "7b9848fe",
      "metadata": {
        "id": "7b9848fe"
      },
      "source": [
        "## Save model checkpoint\n",
        "\n",
        "This saves the learned weights and normalization statistics to a `.npz` file for later reuse.\n"
      ]
    },
    {
      "cell_type": "code",
      "execution_count": null,
      "id": "c96ede34",
      "metadata": {
        "id": "c96ede34"
      },
      "outputs": [],
      "source": [
        "out_path = 'checkpoint.npz'\n",
        "np.savez(out_path,\n",
        "         w1=model.w1, b1=model.b1, w2=model.w2, b2=model.b2,\n",
        "         X_mean=X_mean, X_std=X_std, Y_mean=Y_mean, Y_std=Y_std)\n",
        "print('Saved checkpoint to', out_path)\n"
      ]
    },
    {
      "cell_type": "markdown",
      "id": "fa4422e7",
      "metadata": {
        "id": "fa4422e7"
      },
      "source": [
        "## Load checkpoint and run single inference\n",
        "\n",
        "This cell demonstrates how to load a saved checkpoint and run inference on one scenario.\n"
      ]
    },
    {
      "cell_type": "code",
      "execution_count": null,
      "id": "289ceb9e",
      "metadata": {
        "id": "289ceb9e"
      },
      "outputs": [],
      "source": [
        "data = np.load('checkpoint.npz', allow_pickle=True)\n",
        "w1 = data['w1']; b1 = data['b1']; w2 = data['w2']; b2 = data['b2']\n",
        "X_mean = data['X_mean']; X_std = data['X_std']; Y_mean = data['Y_mean']; Y_std = data['Y_std']\n",
        "\n",
        "class NNFromCheckpoint:\n",
        "    def __init__(self, w1,b1,w2,b2):\n",
        "        self.w1=w1; self.b1=b1; self.w2=w2; self.b2=b2\n",
        "    def predict(self,x):\n",
        "        z1 = x.dot(self.w1) + self.b1\n",
        "        a1 = np.tanh(z1)\n",
        "        return a1.dot(self.w2) + self.b2\n",
        "\n",
        "nn = NNFromCheckpoint(w1,b1,w2,b2)\n",
        "\n",
        "chaser, debris = generate_scenario()\n",
        "feat = np.concatenate([chaser[0:3], chaser[3:6], debris[0:3], debris[3:6]])\n",
        "x_in = (feat - X_mean) / X_std\n",
        "dv_pred_norm = nn.predict(x_in.reshape(1,-1))[0]\n",
        "dv_pred = dv_pred_norm * Y_std + Y_mean\n",
        "print('Predicted ∆v (km/s):', dv_pred)\n"
      ]
    },
    {
      "cell_type": "markdown",
      "source": [
        "## Ingesting Two-Line Elements (TLEs) and converting to LVLH relative state\n",
        "\n",
        "This cell obtains TLEs for two objects (a chaser and a target/debris) and converts them into a relative state vector in the LVLH frame:\n",
        "\n",
        "- Step 1: fetch TLEs from CelesTrak by NORAD catalog ID or by satellite name. If fetching fails, the cell shows how to paste TLE lines manually.  \n",
        "- Step 2: use `sgp4` to compute ECI (TEME) position and velocity at the current UTC time.  \n",
        "- Step 3: convert ECI (TEME) outputs into an Earth-centered inertial (ECI) vector and then compute the LVLH basis from the chaser's position and velocity. Project the relative position and relative velocity into that basis to obtain the LVLH-relative state vector `[rx, ry, rz, vx, vy, vz]`.  \n",
        "- Output: LVLH relative state arrays for chaser and target, which can be supplied to the notebook's simulator and ML pipeline.\n",
        "\n",
        "Security note: public endpoints are used. If your environment blocks outgoing HTTP requests, manual TLE paste is supported.\n"
      ],
      "metadata": {
        "id": "cwMbZbhbXWYh"
      },
      "id": "cwMbZbhbXWYh"
    },
    {
      "cell_type": "code",
      "source": [
        "!pip install sgp4 requests\n",
        "import requests\n",
        "from sgp4.api import Satrec, jday\n",
        "import numpy as np\n",
        "from datetime import datetime, timezone\n",
        "\n",
        "def fetch_tle_by_catnr(catnr):\n",
        "    \"\"\"\n",
        "    Try to fetch TLE for a given NORAD CATNR from common public endpoints.\n",
        "    Returns (line1, line2) or None on failure.\n",
        "    \"\"\"\n",
        "    urls = [\n",
        "        f\"https://celestrak.com/NORAD/elements/gp.php?CATNR={catnr}&FORMAT=tle\",\n",
        "        f\"https://celestrak.com/satcat/tle.php?CATNR={catnr}\",\n",
        "        f\"https://celestrak.com/NORAD/elements/gp.php?CATNR={catnr}\"\n",
        "    ]\n",
        "    for url in urls:\n",
        "        try:\n",
        "            resp = requests.get(url, timeout=10)\n",
        "            if resp.status_code == 200 and resp.text.strip():\n",
        "                lines = [ln.strip() for ln in resp.text.splitlines() if ln.strip()]\n",
        "                if len(lines) >= 2:\n",
        "                    l1 = None; l2 = None\n",
        "                    for i in range(len(lines)-1):\n",
        "                        if lines[i].startswith('1 ') and lines[i+1].startswith('2 '):\n",
        "                            l1, l2 = lines[i], lines[i+1]\n",
        "                    if l1 is None:\n",
        "                        l1, l2 = lines[0], lines[1]\n",
        "                    return l1, l2\n",
        "        except Exception as e:\n",
        "            pass\n",
        "    return None\n",
        "\n",
        "def fetch_tle_by_name(name):\n",
        "    # attempt group fetch that often contains common satellites like 'ISS'\n",
        "    urls = [\n",
        "        f\"https://celestrak.com/NORAD/elements/gp.php?NAME={name}&FORMAT=tle\",\n",
        "        f\"https://celestrak.com/NORAD/elements/gp.php?GROUP=stations&FORMAT=tle\"\n",
        "    ]\n",
        "    for url in urls:\n",
        "        try:\n",
        "            resp = requests.get(url, timeout=10)\n",
        "            if resp.status_code == 200 and resp.text.strip():\n",
        "                lines = [ln.strip() for ln in resp.text.splitlines() if ln.strip()]\n",
        "                for i in range(len(lines)-1):\n",
        "                    block = lines[i] + \" \" + (lines[i+1] if i+1 < len(lines) else '')\n",
        "                    if name.upper() in block.upper() and lines[i].startswith('1 ') and lines[i+1].startswith('2 '):\n",
        "                        return lines[i], lines[i+1]\n",
        "                if len(lines) >= 2:\n",
        "                    return lines[0], lines[1]\n",
        "        except Exception as e:\n",
        "            pass\n",
        "    return None\n",
        "\n",
        "def parse_tle_to_eci(tle_line1, tle_line2, when_utc=None):\n",
        "    if when_utc is None:\n",
        "        when_utc = datetime.now(timezone.utc)\n",
        "    year = when_utc.year\n",
        "    month = when_utc.month\n",
        "    day = when_utc.day\n",
        "    hour = when_utc.hour\n",
        "    minute = when_utc.minute\n",
        "    second = when_utc.second + when_utc.microsecond*1e-6\n",
        "    jd, fr = jday(year, month, day, hour, minute, second)\n",
        "    sat = Satrec.twoline2rv(tle_line1, tle_line2)\n",
        "    e, r, v = sat.sgp4(jd, fr)\n",
        "    if e != 0:\n",
        "        raise RuntimeError(f\"SGP4 error code {e} from sgp4.sgp4 call\")\n",
        "    r = np.array(r)\n",
        "    v = np.array(v)\n",
        "    return r, v\n",
        "\n",
        "def eci_to_lvlh_relative(r_ref, v_ref, r_obj, v_obj):\n",
        "    r_ref = np.array(r_ref); v_ref = np.array(v_ref)\n",
        "    r_obj = np.array(r_obj); v_obj = np.array(v_obj)\n",
        "    r_norm = np.linalg.norm(r_ref)\n",
        "    if r_norm == 0:\n",
        "        raise ValueError(\"Reference position is zero vector\")\n",
        "    x_hat = r_ref / r_norm\n",
        "    h = np.cross(r_ref, v_ref)\n",
        "    h_norm = np.linalg.norm(h)\n",
        "    if h_norm == 0:\n",
        "        h = np.cross(r_ref, v_ref + 1e-6)\n",
        "        h_norm = np.linalg.norm(h) + 1e-12\n",
        "    z_hat = h / h_norm\n",
        "    y_hat = np.cross(z_hat, x_hat)\n",
        "    R = np.vstack([x_hat, y_hat, z_hat])\n",
        "    rel_r_eci = r_obj - r_ref\n",
        "    rel_v_eci = v_obj - v_ref\n",
        "    rel_r_lvlh = R.dot(rel_r_eci)\n",
        "    rel_v_lvlh = R.dot(rel_v_eci)\n",
        "    state = np.concatenate([rel_r_lvlh, rel_v_lvlh])\n",
        "    return state\n",
        "\n",
        "def get_two_object_lvlh(chaser_id=None, chaser_name=None, target_id=None, target_name=None, when_utc=None):\n",
        "    tle_ch = None\n",
        "    if chaser_id is not None:\n",
        "        tle_ch = fetch_tle_by_catnr(chaser_id)\n",
        "    if tle_ch is None and chaser_name is not None:\n",
        "        tle_ch = fetch_tle_by_name(chaser_name)\n",
        "    if tle_ch is None:\n",
        "        print(\"Could not fetch chaser TLE. Provide TLE manually or check network.\")\n",
        "        return None\n",
        "\n",
        "    tle_tgt = None\n",
        "    if target_id is not None:\n",
        "        tle_tgt = fetch_tle_by_catnr(target_id)\n",
        "    if tle_tgt is None and target_name is not None:\n",
        "        tle_tgt = fetch_tle_by_name(target_name)\n",
        "    if tle_tgt is None:\n",
        "        print(\"Could not fetch target TLE. Provide TLE manually or check network.\")\n",
        "        return None\n",
        "\n",
        "    if when_utc is None:\n",
        "        when_utc = datetime.now(timezone.utc)\n",
        "    try:\n",
        "        r_ch, v_ch = parse_tle_to_eci(tle_ch[0], tle_ch[1], when_utc=when_utc)\n",
        "        r_t, v_t = parse_tle_to_eci(tle_tgt[0], tle_tgt[1], when_utc=when_utc)\n",
        "    except Exception as e:\n",
        "        print(\"Error parsing TLE to ECI position/velocity:\", e)\n",
        "        return None\n",
        "\n",
        "    chaser_lvlh = eci_to_lvlh_relative(r_ch, v_ch, r_ch, v_ch)\n",
        "    target_lvlh = eci_to_lvlh_relative(r_ch, v_ch, r_t, v_t)\n",
        "    return {\n",
        "        'when_utc': when_utc,\n",
        "        'tle_chaser': tle_ch,\n",
        "        'tle_target': tle_tgt,\n",
        "        'r_ch_eci_km': r_ch, 'v_ch_eci_km_s': v_ch,\n",
        "        'r_tgt_eci_km': r_t, 'v_tgt_eci_km_s': v_t,\n",
        "        'chaser_lvlh_state': chaser_lvlh,\n",
        "        'target_lvlh_state': target_lvlh\n",
        "    }\n",
        "\n",
        "# Example usage:\n",
        "# Try with common objects: ISS (25544) as chaser, and a nearby catalog object as target.\n",
        "res = get_two_object_lvlh(chaser_id=25544, target_id=25544)\n",
        "if res is not None:\n",
        "    print(\"Time (UTC):\", res['when_utc'])\n",
        "    print(\"Chaser TLE (first line):\", res['tle_chaser'][0])\n",
        "    print(\"Target TLE (first line):\", res['tle_target'][0])\n",
        "    print(\"Chaser LVLH state (rx,ry,rz,vx,vy,vz) [km, km/s]:\\n\", np.round(res['chaser_lvlh_state'], 6))\n",
        "    print(\"Target LVLH state (target relative to chaser) [km, km/s]:\\n\", np.round(res['target_lvlh_state'], 6))\n",
        "else:\n",
        "    print(\"Automatic TLE ingestion failed. To proceed manually, paste two TLE lines for chaser and two for target and use parse_tle_to_eci(...).\")\n"
      ],
      "metadata": {
        "id": "qtmcMXnOXpTE"
      },
      "id": "qtmcMXnOXpTE",
      "execution_count": null,
      "outputs": []
    }
  ],
  "metadata": {
    "colab": {
      "provenance": []
    },
    "language_info": {
      "name": "python"
    },
    "kernelspec": {
      "name": "python3",
      "display_name": "Python 3"
    }
  },
  "nbformat": 4,
  "nbformat_minor": 5
}